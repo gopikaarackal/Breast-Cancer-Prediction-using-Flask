{
 "cells": [
  {
   "cell_type": "code",
   "execution_count": 1,
   "id": "38d70156",
   "metadata": {},
   "outputs": [],
   "source": [
    "import numpy as np\n",
    "import pickle\n",
    "import pandas as pd\n",
    "from flask import Flask, request\n",
    "import flasgger\n",
    "from flasgger import Swagger"
   ]
  },
  {
   "cell_type": "code",
   "execution_count": 2,
   "id": "dd61aa0c",
   "metadata": {},
   "outputs": [
    {
     "data": {
      "text/plain": [
       "<flasgger.base.Swagger at 0x1e43eb0ff70>"
      ]
     },
     "execution_count": 2,
     "metadata": {},
     "output_type": "execute_result"
    }
   ],
   "source": [
    "app=Flask(__name__)\n",
    "Swagger(app)"
   ]
  },
  {
   "cell_type": "code",
   "execution_count": 3,
   "id": "2d1f1f2e",
   "metadata": {},
   "outputs": [],
   "source": [
    "pickle_in = open(\"model.pkl\",\"rb\")\n",
    "model=pickle.load(pickle_in)"
   ]
  },
  {
   "cell_type": "code",
   "execution_count": null,
   "id": "6047725b",
   "metadata": {},
   "outputs": [
    {
     "name": "stdout",
     "output_type": "stream",
     "text": [
      " * Serving Flask app \"__main__\" (lazy loading)\n",
      " * Environment: production\n",
      "   WARNING: This is a development server. Do not use it in a production deployment.\n",
      "   Use a production WSGI server instead.\n",
      " * Debug mode: off\n"
     ]
    },
    {
     "name": "stderr",
     "output_type": "stream",
     "text": [
      " * Running on http://127.0.0.1:5000/ (Press CTRL+C to quit)\n"
     ]
    }
   ],
   "source": [
    "@app.route('/')\n",
    "def hi():\n",
    "    return \"Breast Cancer Prediction\"\n",
    "\n",
    "\n",
    "\n",
    "\n",
    "\n",
    "@app.route('/predict_test', methods=[\"POST\"])\n",
    "def predict_test_class():\n",
    "    \"\"\"Let's predict the breast cancer class\n",
    "    This is using docstrings for specifications.\n",
    "    ---\n",
    "    parameters:\n",
    "    - name: test\n",
    "    in: formData\n",
    "    type: file\n",
    "    required: true\n",
    "    responses:\n",
    "    200:\n",
    "    description: The output values\n",
    "  \n",
    "    \"\"\"\n",
    "    df_test=pd.read_csv(request.files.get(\"test\"))\n",
    "    prediction=model.predict(df_test)\n",
    "    return \" The Predicated Class for the TestFile is\"+ str(list(prediction))\n",
    "\n",
    "\n",
    "\n",
    "\n",
    "\n",
    "\n",
    "\n",
    "if __name__=='__main__':\n",
    "    app.run()\n"
   ]
  },
  {
   "cell_type": "code",
   "execution_count": null,
   "id": "6fe4dd8d",
   "metadata": {},
   "outputs": [],
   "source": []
  }
 ],
 "metadata": {
  "kernelspec": {
   "display_name": "Python 3",
   "language": "python",
   "name": "python3"
  },
  "language_info": {
   "codemirror_mode": {
    "name": "ipython",
    "version": 3
   },
   "file_extension": ".py",
   "mimetype": "text/x-python",
   "name": "python",
   "nbconvert_exporter": "python",
   "pygments_lexer": "ipython3",
   "version": "3.8.8"
  }
 },
 "nbformat": 4,
 "nbformat_minor": 5
}
